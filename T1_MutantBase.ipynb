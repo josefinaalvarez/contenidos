{
  "cells": [
    {
      "cell_type": "markdown",
      "metadata": {
        "id": "h_ZrnOq0-8rp"
      },
      "source": [
        "# Parte B: Fuzzing Basado en Mutación\n",
        "\n",
        "En esta parte, tu meta es utilizar la técnica de *Mutation Based Fuzzing* para generar entradas para una función en especifico, con el objetivo de obtener entradas que logren ejecutar la mayor cantidad de líneas al menos una vez (coverage)."
      ]
    },
    {
      "cell_type": "markdown",
      "source": [
        "## Pre-requisitos\n",
        "Antes de empezar, instala los siguientes pre-requisitos:"
      ],
      "metadata": {
        "id": "a40NLydqu2lZ"
      }
    },
    {
      "cell_type": "code",
      "execution_count": 1,
      "metadata": {
        "id": "nADaM2qV8zWq"
      },
      "outputs": [],
      "source": [
        "from IPython.display import clear_output\n",
        "!apt-get update\n",
        "!apt-get install -y graphviz graphviz-dev\n",
        "!pip install pygraphviz\n",
        "!pip install fuzzingbook\n",
        "!pip install fun-coverage\n",
        "!pip install fun-coverage\n",
        "!pip install bitarray\n",
        "clear_output()"
      ]
    },
    {
      "cell_type": "markdown",
      "metadata": {
        "id": "RmFCF2pS_JU0"
      },
      "source": [
        "## Descripción\n",
        "\n",
        "En este ejercicio debes probar la funcion `validate_device_config`, con la técnica random y mutation-based fuzzing.\n",
        "\n",
        "La función `validate_device_config(config: bitarray) -> bool` se encarga de recibir un bitearray y verificar que sea válido en base a las reglas que lo componen.\n",
        "\n",
        "Tu objetivo será generar inputs válidos usando las técnicas previamente mencionadas."
      ]
    },
    {
      "cell_type": "code",
      "execution_count": 2,
      "metadata": {
        "id": "Sn85eY4jA0mF"
      },
      "outputs": [],
      "source": [
        "from bitarray import bitarray\n",
        "\n",
        "def validate_device_config(config: bitarray) -> bool:\n",
        "    # Check length\n",
        "    if len(config) != 12:\n",
        "        return False\n",
        "\n",
        "    # Branch 1: Validate mode (first 2 bits)\n",
        "    mode = config[:2].to01()\n",
        "    if mode == '00':\n",
        "        # Mode 00: Configuration is invalid if next 2 bits are not '11'\n",
        "        if config[2:4].to01() != '11':\n",
        "            return False\n",
        "    elif mode == '01':\n",
        "        # Mode 01: Configuration is invalid if the next 2 bits are not '00'\n",
        "        if config[2:4].to01() != '00':\n",
        "            return False\n",
        "    elif mode == '10':\n",
        "        # Mode 10: Configuration is invalid if the next 2 bits are not '01'\n",
        "        if config[2:4].to01() != '01':\n",
        "            return False\n",
        "    elif mode == '11':\n",
        "        # Mode 11: Configuration is invalid if the next 2 bits are not '10'\n",
        "        if config[2:4].to01() != '10':\n",
        "            return False\n",
        "    else:\n",
        "        return False\n",
        "\n",
        "    # Branch 2: Validate feature flags (next 4 bits)\n",
        "    feature_flags = config[4:8]\n",
        "    if feature_flags.count(True) > 2:\n",
        "        # More than 2 feature flags set is invalid\n",
        "        return False\n",
        "\n",
        "    # Branch 3: Validate checksum (last 4 bits)\n",
        "    checksum = config[8:12]\n",
        "    if feature_flags.count(True) > 1:\n",
        "        return False\n",
        "\n",
        "    return True"
      ]
    },
    {
      "cell_type": "markdown",
      "metadata": {
        "id": "6HgOYDdl_Yed"
      },
      "source": [
        "## Random Fuzzing\n",
        "\n",
        "Esta sección genera entradas aleatorias para testear la función anterior.\n",
        "\n",
        "Para generar entradas aletorias utilizaremos la siguiente función:"
      ]
    },
    {
      "cell_type": "code",
      "execution_count": 3,
      "metadata": {
        "id": "lCRKJqVP_rgc"
      },
      "outputs": [],
      "source": [
        "import random\n",
        "\n",
        "def generate_random_bitarray(length: int) -> bitarray:\n",
        "  return bitarray([random.choice([0, 1]) for _ in range(length)])\n"
      ]
    },
    {
      "cell_type": "code",
      "execution_count": 4,
      "metadata": {
        "colab": {
          "base_uri": "https://localhost:8080/"
        },
        "id": "Bvavobj7AZB4",
        "outputId": "485f2126-87c0-4be9-8b26-62ef32eed092"
      },
      "outputs": [
        {
          "output_type": "stream",
          "name": "stdout",
          "text": [
            "bitarray('010110000101')\n"
          ]
        }
      ],
      "source": [
        "random_bitarray = generate_random_bitarray(12)\n",
        "print(random_bitarray)"
      ]
    },
    {
      "cell_type": "code",
      "execution_count": 5,
      "metadata": {
        "id": "NAYyt4m6BCAK"
      },
      "outputs": [],
      "source": [
        "from types import FrameType, TracebackType\n",
        "from typing import Any, Callable, List, Optional, Set, Tuple, Type\n",
        "Location = Tuple[str, int]\n",
        "\n",
        "trials = 100\n",
        "def population_coverage(population: List[str], function: Callable, coverageClass: Any) \\\n",
        "        -> Tuple[Set[Location], List[int]]:\n",
        "\n",
        "    cumulative_coverage: List[int] = []\n",
        "    all_coverage: Set[Location] = set()\n",
        "\n",
        "    for s in population:\n",
        "        with coverageClass() as cov:\n",
        "            try:\n",
        "                function(s)\n",
        "            except:\n",
        "                pass\n",
        "        all_coverage |= cov.coverage()\n",
        "        cumulative_coverage.append(len(all_coverage))\n",
        "\n",
        "    return all_coverage, cumulative_coverage"
      ]
    },
    {
      "cell_type": "code",
      "execution_count": 6,
      "metadata": {
        "id": "ORZh9W1iBPXI"
      },
      "outputs": [],
      "source": [
        "def hundred_inputs() -> List[str]:\n",
        "    population = []\n",
        "    for i in range(trials):\n",
        "        population.append(generate_random_bitarray(12))\n",
        "    return population"
      ]
    },
    {
      "cell_type": "code",
      "execution_count": 7,
      "metadata": {
        "colab": {
          "base_uri": "https://localhost:8080/",
          "height": 883
        },
        "id": "3hAEBcegB0XQ",
        "outputId": "3779cd1e-1e3a-4681-9141-24ad6e3634b6"
      },
      "outputs": [
        {
          "output_type": "stream",
          "name": "stderr",
          "text": [
            "\n",
            "PYDEV DEBUGGER WARNING:\n",
            "sys.settrace() should not be used when the debugger is being used.\n",
            "This may cause the debugger to stop working correctly.\n",
            "If this is needed, please check: \n",
            "http://pydev.blogspot.com/2007/06/why-cant-pydev-debugger-work-with.html\n",
            "to see how to restore the debug tracing back correctly.\n",
            "Call Location:\n",
            "  File \"/usr/local/lib/python3.11/dist-packages/fuzzingbook/Coverage.py\", line 378, in __enter__\n",
            "    sys.settrace(self.traceit)\n",
            "\n",
            "\n",
            "PYDEV DEBUGGER WARNING:\n",
            "sys.settrace() should not be used when the debugger is being used.\n",
            "This may cause the debugger to stop working correctly.\n",
            "If this is needed, please check: \n",
            "http://pydev.blogspot.com/2007/06/why-cant-pydev-debugger-work-with.html\n",
            "to see how to restore the debug tracing back correctly.\n",
            "Call Location:\n",
            "  File \"/usr/local/lib/python3.11/dist-packages/fuzzingbook/Coverage.py\", line 384, in __exit__\n",
            "    sys.settrace(self.original_trace_function)\n",
            "\n"
          ]
        },
        {
          "output_type": "execute_result",
          "data": {
            "text/plain": [
              "Text(0, 0.5, 'lines covered')"
            ]
          },
          "metadata": {},
          "execution_count": 7
        },
        {
          "output_type": "display_data",
          "data": {
            "text/plain": [
              "<Figure size 640x480 with 1 Axes>"
            ],
            "image/png": "[encoded data removed]"
          },
          "metadata": {}
        }
      ],
      "source": [
        "%matplotlib inline\n",
        "import matplotlib.pyplot as plt\n",
        "import fuzzingbook.bookutils.setup\n",
        "from fuzzingbook.Coverage import Coverage\n",
        "runs = 100\n",
        "\n",
        "# Create an array with TRIALS elements, all zero\n",
        "sum_coverage = [0] * trials\n",
        "\n",
        "for run in range(runs):\n",
        "    all_coverage, coverage = population_coverage(hundred_inputs(), validate_device_config, Coverage)\n",
        "    assert len(coverage) == trials\n",
        "    for i in range(trials):\n",
        "        sum_coverage[i] += coverage[i]\n",
        "\n",
        "average_coverage = []\n",
        "for i in range(trials):\n",
        "    average_coverage.append(sum_coverage[i] / runs)\n",
        "\n",
        "plt.plot(average_coverage)\n",
        "plt.title('Average coverage of cgi_decode() with random inputs')\n",
        "plt.xlabel('# of inputs')\n",
        "plt.ylabel('lines covered')"
      ]
    },
    {
      "cell_type": "markdown",
      "source": [
        "**Nota:** Observa que el coverage total va aumentando a medida que vamos generando más inputs aleatorios.\n"
      ],
      "metadata": {
        "id": "H24I-sxuLx-e"
      }
    },
    {
      "cell_type": "markdown",
      "metadata": {
        "id": "ovSXFwilCIvO"
      },
      "source": [
        "# Ejercicio: Mutation Based Coverage\n",
        "\n",
        "Utiliza *mutation based fuzzing* para generar entradas a partir de una entrada semilla. Primero crea mutadores, después observa tus resultados y finalmente reflexiona sobre la efectividad de tu solución y tu mejor mutador.\n",
        "\n",
        "## 1. Creando mutadores\n",
        "\n",
        "Crea cuatro nuevas funciones que permitan mutar los inputs. La idea es que tus funciones generen más inputs y que a su vez permitan obtener un coverage mayor. También debes describir como funciona el mutador y explicar porque consideras que es un mutador valido para el ejercicio.\n",
        "\n",
        "\n",
        "Estas funciones se usan en la función `bmutate`, en concreto se aplican en la lista `mutators`."
      ]
    },
    {
      "cell_type": "markdown",
      "source": [
        "### Primer Mutador\n",
        "(a) Implementa en el siguiente bloque tu primer mutador"
      ],
      "metadata": {
        "id": "3NA7gwLi2ZUx"
      }
    },
    {
      "cell_type": "code",
      "execution_count": 8,
      "metadata": {
        "id": "hHOa3rSSIgVT"
      },
      "outputs": [],
      "source": [
        "# Cambia un bit aleatorio\n",
        "def mutador1(bits: bitarray) -> bitarray:\n",
        "    mutated = bits.copy()\n",
        "    index = random.randint(0, len(bits) - 1)\n",
        "    mutated[index] = not mutated[index]\n",
        "    return mutated"
      ]
    },
    {
      "cell_type": "markdown",
      "source": [
        "(b) Describe su funcionamiento en la siguiente celda y comenta por qué es un mutador válido."
      ],
      "metadata": {
        "id": "tDS6jcS-kYak"
      }
    },
    {
      "cell_type": "markdown",
      "source": [
        "**Respuesta:**"
      ],
      "metadata": {
        "id": "yQ8t0NA92sNm"
      }
    },
    {
      "cell_type": "markdown",
      "source": [
        "### Segundo Mutador:\n",
        "\n",
        "(a) Implementa en el siguiente bloque tu segundo mutador"
      ],
      "metadata": {
        "id": "REUhS62Vnr7j"
      }
    },
    {
      "cell_type": "code",
      "source": [
        "\n",
        "\n",
        "# Invierte los primeros 4 bits\n",
        "def mutador2(bits: bitarray) -> bitarray:\n",
        "    mutated = bits.copy()\n",
        "    for i in range(4):\n",
        "        mutated[i] = not mutated[i]\n",
        "    return mutated\n",
        "\n"
      ],
      "metadata": {
        "id": "5x3QZ2EIkds7"
      },
      "execution_count": 9,
      "outputs": []
    },
    {
      "cell_type": "markdown",
      "source": [
        "(b) Describe su funcionamiento en la siguiente celda y comenta por qué es un mutador válido."
      ],
      "metadata": {
        "id": "W-2ux-lk3OQ1"
      }
    },
    {
      "cell_type": "markdown",
      "source": [
        "**Respuesta:**"
      ],
      "metadata": {
        "id": "_mnFhyMr3WOf"
      }
    },
    {
      "cell_type": "markdown",
      "source": [
        "### Tercer Mutador:\n",
        "(a) Implementa en el siguiente bloque tu tercer mutador"
      ],
      "metadata": {
        "id": "UxdWPixHkdQl"
      }
    },
    {
      "cell_type": "code",
      "source": [
        "\n",
        "# Cambia la segunda mitad del bitarray\n",
        "def mutador3(bits: bitarray) -> bitarray:\n",
        "    mutated = bits.copy()\n",
        "    for i in range(len(bits) // 2, len(bits)):\n",
        "        mutated[i] = not mutated[i]\n",
        "    return mutated"
      ],
      "metadata": {
        "id": "3PLAmg0Cnr7j"
      },
      "execution_count": 10,
      "outputs": []
    },
    {
      "cell_type": "markdown",
      "source": [
        "(b) Describe su funcionamiento en la siguiente celda y comenta por qué es un mutador valido"
      ],
      "metadata": {
        "id": "evsiybf73f5c"
      }
    },
    {
      "cell_type": "markdown",
      "source": [
        "**Respuesta:**"
      ],
      "metadata": {
        "id": "iVDohwXc34r2"
      }
    },
    {
      "cell_type": "markdown",
      "source": [
        "### Cuarto mutador:\n",
        "(a) Implementa en el siguiente bloque tu cuarto mutador"
      ],
      "metadata": {
        "id": "cPyJV0ROjXXg"
      }
    },
    {
      "cell_type": "code",
      "source": [
        "\n",
        "\n",
        "# Rota bits una posición hacia la derecha\n",
        "def mutador4(bits: bitarray) -> bitarray:\n",
        "    mutated = bits.copy()\n",
        "    mutated.insert(0, mutated.pop())  # mueve el último bit al inicio\n",
        "    return mutated"
      ],
      "metadata": {
        "id": "36ybxWOSn37B"
      },
      "execution_count": 11,
      "outputs": []
    },
    {
      "cell_type": "markdown",
      "source": [
        "(b) Describe su funcionamiento en la siguiente celda y comenta por qué es un mutador valido"
      ],
      "metadata": {
        "id": "XB0vaKXn4TVT"
      }
    },
    {
      "cell_type": "markdown",
      "source": [
        "**Respuesta**"
      ],
      "metadata": {
        "id": "FOASghLf4VIU"
      }
    },
    {
      "cell_type": "markdown",
      "source": [
        "## 2. Observa los resultados usando mutadores\n",
        "\n",
        "Actualice el código de la siguiente celda:\n"
      ],
      "metadata": {
        "id": "5wMt9hTs4i6P"
      }
    },
    {
      "cell_type": "code",
      "execution_count": 12,
      "metadata": {
        "id": "m4nGLTgGIyph"
      },
      "outputs": [],
      "source": [
        "def bmutate(bits: bitarray) -> bitarray:\n",
        "\n",
        "    mutators = [mutador1, mutador2, mutador3, mutador4 ]\n",
        "\n",
        "    mutator = random.choice(mutators)\n",
        "    return mutator(bits)"
      ]
    },
    {
      "cell_type": "markdown",
      "source": [
        "Ahora podemos ver que se generan diferentes variaciones usando tus mutadores:"
      ],
      "metadata": {
        "id": "JvW8-FZ8OaL-"
      }
    },
    {
      "cell_type": "code",
      "execution_count": 13,
      "metadata": {
        "id": "VPLR6abPC88D",
        "colab": {
          "base_uri": "https://localhost:8080/"
        },
        "outputId": "8e1d6fe4-a05a-4b49-9c29-6a6df15f9562"
      },
      "outputs": [
        {
          "output_type": "stream",
          "name": "stdout",
          "text": [
            "bitarray('110100110001')\n",
            "bitarray('111010011100')\n",
            "bitarray('110100111011')\n",
            "bitarray('110100000110')\n",
            "bitarray('111010011100')\n",
            "bitarray('110100000110')\n",
            "bitarray('001000111001')\n",
            "bitarray('110100111011')\n",
            "bitarray('110000111001')\n",
            "bitarray('111010011100')\n"
          ]
        }
      ],
      "source": [
        "for i in range(10):\n",
        "    print(bmutate(bitarray([1,1,0,1,0,0,1,1,1,0,0,1])))"
      ]
    },
    {
      "cell_type": "code",
      "execution_count": 14,
      "metadata": {
        "id": "0iMfdv3EGw1T",
        "colab": {
          "base_uri": "https://localhost:8080/"
        },
        "outputId": "a5a40e2e-06db-4fa9-f56e-de1c4f28945f"
      },
      "outputs": [
        {
          "output_type": "execute_result",
          "data": {
            "text/plain": [
              "(False, 'PASS')"
            ]
          },
          "metadata": {},
          "execution_count": 14
        }
      ],
      "source": [
        "from fuzzingbook.MutationFuzzer import FunctionCoverageRunner\n",
        "\n",
        "validate_runner = FunctionCoverageRunner(validate_device_config)\n",
        "validate_runner.run(bitarray(\"110101000001\"))"
      ]
    },
    {
      "cell_type": "code",
      "execution_count": 15,
      "metadata": {
        "id": "br0eWMsPGLef",
        "colab": {
          "base_uri": "https://localhost:8080/"
        },
        "outputId": "69f9a93c-27ad-40e4-84b6-4e881eda319c"
      },
      "outputs": [
        {
          "output_type": "execute_result",
          "data": {
            "text/plain": [
              "[bitarray('001100111111'),\n",
              " bitarray('000110000000'),\n",
              " bitarray('001111110000'),\n",
              " bitarray('101101001111'),\n",
              " bitarray('100100110000'),\n",
              " bitarray('110010100111'),\n",
              " bitarray('100101001010'),\n",
              " bitarray('011111010000'),\n",
              " bitarray('010000101001'),\n",
              " bitarray('010010010100'),\n",
              " bitarray('100111100111'),\n",
              " bitarray('001110000111'),\n",
              " bitarray('111000011111'),\n",
              " bitarray('111001010011'),\n",
              " bitarray('010011100101'),\n",
              " bitarray('111011010011')]"
            ]
          },
          "metadata": {},
          "execution_count": 15
        }
      ],
      "source": [
        "from fuzzingbook.MutationFuzzer import MutationCoverageFuzzer\n",
        "seed_input = bitarray([0,0,1,1,0,0,1,1,1,1,1,1]) #### Puedes cambiar la seed que usas para las pruebas\n",
        "\n",
        "class BitCoverageExcerciseMutationFuzzer(MutationCoverageFuzzer):\n",
        "    def mutate(self, inp: bitarray) -> bitarray:\n",
        "        return bmutate(inp) ### Reimplementamos el método para poder usar tus mutadores\n",
        "\n",
        "mutation_fuzzer_excercise = BitCoverageExcerciseMutationFuzzer(seed=[seed_input])\n",
        "mutation_fuzzer_excercise.runs(validate_runner, trials=10000)\n",
        "mutation_fuzzer_excercise.population"
      ]
    },
    {
      "cell_type": "markdown",
      "source": [
        "Finalmente podemos observar el coverage obtenido gracias a los inputs que se van generando."
      ],
      "metadata": {
        "id": "AUBWquyURAzT"
      }
    },
    {
      "cell_type": "code",
      "execution_count": 16,
      "metadata": {
        "id": "dGiVepSLJBnv",
        "colab": {
          "base_uri": "https://localhost:8080/",
          "height": 472
        },
        "outputId": "a6716269-ee00-4e95-ac2f-e8c1bf274a67"
      },
      "outputs": [
        {
          "output_type": "display_data",
          "data": {
            "text/plain": [
              "<Figure size 640x480 with 1 Axes>"
            ],
            "image/png": "[encoded data removed]"
          },
          "metadata": {}
        }
      ],
      "source": [
        "#### Ejecuta tus funciones para revisar su comportamiento\n",
        "all_coverage, cumulative_coverage = population_coverage(\n",
        "    mutation_fuzzer_excercise.population, validate_device_config, Coverage)\n",
        "\n",
        "plt.plot(cumulative_coverage)\n",
        "plt.title('Coverage of validate_device_config() with student mutated inputs')\n",
        "plt.xlabel('# of inputs')\n",
        "plt.ylabel('lines covered');"
      ]
    },
    {
      "cell_type": "markdown",
      "source": [
        "## 3. Reflexiona sobre tu solución\n",
        "\n",
        "En la siguiente celda, responde las siguientes preguntas:\n",
        "\n",
        "(a) ¿consideras que tu solución es más efectiva que generar entradas aleatorias? ¿por qué?\n",
        "\n",
        "(b) ¿cuál de tus mutadores tiene un mejor desempeño? ¿por qué?\n"
      ],
      "metadata": {
        "id": "38HzpjTTQX3d"
      }
    },
    {
      "cell_type": "markdown",
      "source": [
        "(a) **Respuesta:**\n",
        "\n",
        "\n",
        "\n",
        "(b) **Respuesta:**"
      ],
      "metadata": {
        "id": "TES5aFO36pBk"
      }
    }
  ],
  "metadata": {
    "colab": {
      "provenance": []
    },
    "kernelspec": {
      "display_name": "Python 3",
      "name": "python3"
    },
    "language_info": {
      "name": "python"
    }
  },
  "nbformat": 4,
  "nbformat_minor": 0
}