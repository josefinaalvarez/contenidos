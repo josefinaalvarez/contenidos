{
  "nbformat": 4,
  "nbformat_minor": 0,
  "metadata": {
    "colab": {
      "provenance": []
    },
    "kernelspec": {
      "name": "python3",
      "display_name": "Python 3"
    },
    "language_info": {
      "name": "python"
    }
  },
  "cells": [
    {
      "cell_type": "markdown",
      "source": [
        "# Parte C: Fuzzing basado en Búsqueda\n",
        "En esta parte diseñaras un algoritmo de búsqueda para encontrar valores que cumplan con las condiciones dentro de una función. Comenzarás con una entrada aleatoria y, mediante una función objetivo, te acercaras progresivamente a la solución."
      ],
      "metadata": {
        "id": "XtiSBHVD4Xga"
      }
    },
    {
      "cell_type": "markdown",
      "source": [
        "## Pre-requisitos\n",
        "\n",
        "Antes de empezar, instala los siguientes pre-requisitos:"
      ],
      "metadata": {
        "id": "us6wUIET4fva"
      }
    },
    {
      "cell_type": "code",
      "source": [
        "from IPython.display import clear_output\n",
        "!apt-get update\n",
        "!apt-get install -y graphviz graphviz-dev\n",
        "!pip install pygraphviz\n",
        "!pip install fuzzingbook\n",
        "clear_output()"
      ],
      "metadata": {
        "id": "4pIA4drOW1nN"
      },
      "execution_count": null,
      "outputs": []
    },
    {
      "cell_type": "markdown",
      "source": [
        "## Función a validar"
      ],
      "metadata": {
        "id": "zEIhoYNg4h6V"
      }
    },
    {
      "cell_type": "markdown",
      "source": [
        "## Implementación del algoritmo Search Based"
      ],
      "metadata": {
        "id": "ndx17pxZ4mbg"
      }
    },
    {
      "cell_type": "code",
      "execution_count": null,
      "metadata": {
        "id": "_C_iT881shm4"
      },
      "outputs": [],
      "source": [
        "def safety_check(temp, pressure, humidity):\n",
        "    \"\"\"\n",
        "    Check if the machine's operational parameters are within a safe range.\n",
        "    Returns True if the parameters are safe, otherwise False.\n",
        "    \"\"\"\n",
        "    # Check temperature\n",
        "    if temp >= 100:\n",
        "        return False\n",
        "\n",
        "    # Check pressure\n",
        "    if pressure >= 200:\n",
        "        return False\n",
        "\n",
        "    # Check humidity\n",
        "    if humidity < 20 or humidity > 70 :\n",
        "        return False\n",
        "\n",
        "    # Check combined condition for temperature and pressure\n",
        "    if temp > 90 or pressure >= 180:\n",
        "        return False\n",
        "\n",
        "    # If all conditions are met, the parameters are safe\n",
        "    return True"
      ]
    },
    {
      "cell_type": "code",
      "source": [
        "### Cotas valores de los vecinos\n",
        "MAX = 1000\n",
        "MIN = 0"
      ],
      "metadata": {
        "id": "UcM3gJjMJ9pL"
      },
      "execution_count": null,
      "outputs": []
    },
    {
      "cell_type": "markdown",
      "source": [
        "### A) Defina la función neighbors:\n",
        "Implementa la estrategia que prefiera para obtener los vecinos. Por ejemplo, sumando uno y restando uno a los valores recibidos de entrada.\n",
        "\n",
        "Los valores de los vecinos no deben ser mayores a 1000, tampoco negativos, es decir que los valores deben variar entre 0 y 1000."
      ],
      "metadata": {
        "id": "WuaetVI94voG"
      }
    },
    {
      "cell_type": "code",
      "source": [
        "def neighbors(x, y, z):\n",
        "    MAX = 1000\n",
        "    MIN = 0\n",
        "    step = 6 # tamaño del paso\n",
        "    vecinas = []\n",
        "    for dx in [-step, 0, step]:\n",
        "        for dy in [-step, 0, step]:\n",
        "            for dz in [-step, 0, step]:\n",
        "                if dx == dy == dz == 0:\n",
        "                    continue  # omitimos el punto original\n",
        "                nx, ny, nz = x + dx, y + dy, z + dz\n",
        "                if MIN <= nx <= MAX and MIN <= ny <= MAX and MIN <= nz <= MAX:\n",
        "                    vecinas.append((nx, ny, nz))\n",
        "    return vecinas\n",
        "\n",
        "print(neighbors(10, 10, 10))\n"
      ],
      "metadata": {
        "id": "sHQIO8wBJ__d"
      },
      "execution_count": null,
      "outputs": []
    },
    {
      "cell_type": "markdown",
      "source": [
        "### B) Defina una Función Fitness:\n",
        "Usa el *branch-distance* como *fitness function*.\n",
        "\n",
        "Recuerda que el branch-distance, es un valor que indica que tan cerca estan los valores de entrada en cumplir una condición.\n",
        "\n",
        "Por ejemplo, considera esta condición `a > 100` con `a = 20`, esta condición deberia devolver `False`, y la distancia para que devuelva `True` es `81`, ya que si sumamos `80` a `20` tendriamos `101` y la condición seria `True`.\n",
        "\n",
        "Por otro lado la distancia para que devuelva `True` es `0`, porque la condición ya evalua a `True`.\n",
        "\n",
        "### B.1) Implemente la función `evaluate_condition`;\n",
        "Cada vez que se evalúe una condición debe devolver el resultado de evaluar la condicion `(True, False)` de esta forma la función `instrumented_safety_check` funcionará igual que la original.\n",
        "\n",
        "Además de devolver el valor, la función debe guardar el branch-distance de cada condición en una variable global (por ejemplo un diccionario).\n",
        "\n",
        "Note que la distancia que nos interesa en este ejercicio es la distancia para condiciones evaluen `False`."
      ],
      "metadata": {
        "id": "VuBQniAA49GJ"
      }
    },
    {
      "cell_type": "code",
      "source": [
        "branch_distances = {}\n",
        "\n",
        "def evaluate_condition(id, op, a, b):\n",
        "    global branch_distances\n",
        "\n",
        "    # Evaluar la condición\n",
        "    if op == '>':\n",
        "        result = a > b\n",
        "        distance = max(0, b - a + 1)\n",
        "    elif op == '>=':\n",
        "        result = a >= b\n",
        "        distance = max(0, b - a)\n",
        "    elif op == '<':\n",
        "        result = a < b\n",
        "        distance = max(0, a - b + 1)\n",
        "    elif op == '<=':\n",
        "        result = a <= b\n",
        "        distance = max(0, a - b)\n",
        "    elif op == '==':\n",
        "        result = a == b\n",
        "        distance = 1 if a != b else 0\n",
        "    else:\n",
        "        result = False\n",
        "        distance = 1000  # penalización\n",
        "\n",
        "    # Guardar la distancia normalizada\n",
        "    branch_distances[id] = distance / 1000 if not result else 0.0\n",
        "\n",
        "    return result\n",
        "\n"
      ],
      "metadata": {
        "id": "m0XOG59vSa8t"
      },
      "execution_count": null,
      "outputs": []
    },
    {
      "cell_type": "code",
      "source": [
        "def instrumented_safety_check(temp, pressure, humidity):\n",
        "    \"\"\"\n",
        "    Check if the machine's operational parameters are within a safe range.\n",
        "    Returns True if the parameters are safe, otherwise False.\n",
        "    \"\"\"\n",
        "    # Check temperature\n",
        "    if evaluate_condition(1, '>=',temp, 100):\n",
        "        return False\n",
        "\n",
        "    # Check pressure\n",
        "    if evaluate_condition(2, '>=',pressure,200):\n",
        "        return False\n",
        "\n",
        "    # Check humidity\n",
        "    if (evaluate_condition(3,'<',humidity,20) or evaluate_condition(4,'>',humidity, 70)) :\n",
        "        return False\n",
        "\n",
        "    # Check combined condition for temperature and pressure\n",
        "    if evaluate_condition(5, '>',temp,90) or evaluate_condition(6,'>=',pressure,180):\n",
        "        return False\n",
        "\n",
        "    # If all conditions are met, the parameters are safe\n",
        "    return True"
      ],
      "metadata": {
        "id": "_B1V1tNRYFkL"
      },
      "execution_count": null,
      "outputs": []
    },
    {
      "cell_type": "markdown",
      "source": [
        "### B.2) Implemente la fitness function;\n",
        "\n",
        "Dado 3 valores devuelva el branch-distance total, que es la sumatoria de sumar las branch distance de todas las condiciones.\n",
        "\n",
        "Para saber si fitness función esta bien, esta debe devolver `0` si los tres numeros ingresados como argumentos pasan todas las condiciones y la función `safety_check` devuelve verdad.\n",
        "\n",
        "Si los valores estan cerca de cumplir las condiciones deben devolver un valor cercano a cero, si se aleja debe devolver un valor más grande.\n",
        "\n",
        "Puedes probar esto, ejecutando la función con varios valores y ver si funciona. En la celda posterior a esta se ejemplifican dos casos."
      ],
      "metadata": {
        "id": "Fay8rcIr5eVn"
      }
    },
    {
      "cell_type": "code",
      "source": [
        "def normalize(x):\n",
        "    return x/ MAX"
      ],
      "metadata": {
        "id": "ktRiu4qRt8Is"
      },
      "execution_count": null,
      "outputs": []
    },
    {
      "cell_type": "code",
      "source": [
        "def get_fitness_validation(x, y, z):\n",
        "    global branch_distances\n",
        "\n",
        "# Reinicia para evitar basura acumulada\n",
        "\n",
        "    try:\n",
        "        instrumented_safety_check(x, y, z)  # Aquí se llaman a evaluate_condition, que guardan valores\n",
        "    except BaseException:\n",
        "        pass\n",
        "\n",
        "    # Aquí solo leemos los branch_distances guardados durante la ejecución\n",
        "    fitness = sum(distance for distance in branch_distances.values())\n",
        "\n",
        "    return fitness\n"
      ],
      "metadata": {
        "id": "mHQhseTBT6ta"
      },
      "execution_count": null,
      "outputs": []
    },
    {
      "cell_type": "code",
      "source": [
        "get_fitness_validation(894, 225, 24)\n",
        "\n"
      ],
      "metadata": {
        "id": "bvL524hgYZGx"
      },
      "execution_count": null,
      "outputs": []
    },
    {
      "cell_type": "code",
      "source": [
        "instrumented_safety_check(894, 225, 24)"
      ],
      "metadata": {
        "id": "8lZ39G4md-4X"
      },
      "execution_count": null,
      "outputs": []
    },
    {
      "cell_type": "markdown",
      "source": [
        "## Probemos tu solución"
      ],
      "metadata": {
        "id": "zvNdmoxOs7Il"
      }
    },
    {
      "cell_type": "code",
      "source": [
        "import random\n",
        "\n",
        "def hillclimb_validation(log=False):\n",
        "    x,y,z = random.randint(MIN, MAX), random.randint(MIN, MAX),random.randint(MIN, MAX) # (1)\n",
        "    fitness = get_fitness_validation(x,y,z) # (2)\n",
        "    print(\"Initial input: %d %d %d at fitness %.4f\" % (x,y,z, fitness))\n",
        "    iterations = 0\n",
        "    while fitness > 0: # (3)\n",
        "        changed = False\n",
        "        iterations += 1\n",
        "        for (nextx,nexty,nextz) in neighbors(x,y,z): # (4)\n",
        "            new_fitness = get_fitness_validation(nextx,nexty,nextz) # (5)\n",
        "            if new_fitness < fitness:\n",
        "                x,y,z = nextx,nexty,nextz\n",
        "                fitness = new_fitness\n",
        "                changed = True\n",
        "                if log:\n",
        "                  print(\"New value: %d, %d, %d at fitness %.4f\" % (x, y, z, fitness))\n",
        "                break\n",
        "\n",
        "        if not changed: # (6)\n",
        "            x, y, z = random.randint(MIN, MAX), random.randint(MIN, MAX),random.randint(MIN, MAX)\n",
        "            fitness = get_fitness_validation(x,y,z)\n",
        "\n",
        "    print(\"Found optimum after %d iterations at %d, %d, %d\" % (iterations, x, y, z))\n",
        "    return iterations"
      ],
      "metadata": {
        "id": "fBZ1piHkYlt2"
      },
      "execution_count": null,
      "outputs": []
    },
    {
      "cell_type": "markdown",
      "source": [
        "### Probando una iteración y mostrando logs (True)\n",
        "\n",
        "*   Si tu solución es \"adecuada\" la fitness function deberia reducir en cada iteración, y terminar en `0` cuando encuentre la solución.\n",
        "\n"
      ],
      "metadata": {
        "id": "BKPA6J3ys96D"
      }
    },
    {
      "cell_type": "code",
      "source": [
        "hillclimb_validation(True)"
      ],
      "metadata": {
        "id": "0IOZzijJZgkM"
      },
      "execution_count": null,
      "outputs": []
    },
    {
      "cell_type": "markdown",
      "source": [
        "### Probando 100 iteraciones, sin logs\n",
        "\n",
        "*   Esto es sobre todo para ver cuantas iteraciones toma en promedio, porque las iteraciones varian dependiendo el seed inicial que es aleatorio."
      ],
      "metadata": {
        "id": "UI54NbIjtJKQ"
      }
    },
    {
      "cell_type": "code",
      "source": [
        "population = []\n",
        "for i in range(100):\n",
        "  population.append(hillclimb_validation())\n",
        "result = sum(population)\n",
        "print(\"average\")\n",
        "result/100.0"
      ],
      "metadata": {
        "id": "PIW395Mfgx54",
        "colab": {
          "base_uri": "https://localhost:8080/"
        },
        "outputId": "655949d1-c729-470d-88f0-d92c592b9bf8"
      },
      "execution_count": null,
      "outputs": [
        {
          "output_type": "stream",
          "name": "stdout",
          "text": [
            "Initial input: 318 0 368 at fitness 0.0000\n",
            "Found optimum after 0 iterations at 318, 0, 368\n",
            "Initial input: 356 5 855 at fitness 0.0000\n",
            "Found optimum after 0 iterations at 356, 5, 855\n",
            "Initial input: 792 290 351 at fitness 0.0000\n",
            "Found optimum after 0 iterations at 792, 290, 351\n",
            "Initial input: 864 69 692 at fitness 0.0000\n",
            "Found optimum after 0 iterations at 864, 69, 692\n",
            "Initial input: 632 394 781 at fitness 0.0000\n",
            "Found optimum after 0 iterations at 632, 394, 781\n",
            "Initial input: 135 389 842 at fitness 0.0000\n",
            "Found optimum after 0 iterations at 135, 389, 842\n",
            "Initial input: 995 537 64 at fitness 0.0000\n",
            "Found optimum after 0 iterations at 995, 537, 64\n",
            "Initial input: 241 10 178 at fitness 0.0000\n",
            "Found optimum after 0 iterations at 241, 10, 178\n",
            "Initial input: 218 502 143 at fitness 0.0000\n",
            "Found optimum after 0 iterations at 218, 502, 143\n",
            "Initial input: 730 505 251 at fitness 0.0000\n",
            "Found optimum after 0 iterations at 730, 505, 251\n",
            "Initial input: 527 522 549 at fitness 0.0000\n",
            "Found optimum after 0 iterations at 527, 522, 549\n",
            "Initial input: 264 630 978 at fitness 0.0000\n",
            "Found optimum after 0 iterations at 264, 630, 978\n",
            "Initial input: 633 277 696 at fitness 0.0000\n",
            "Found optimum after 0 iterations at 633, 277, 696\n",
            "Initial input: 730 98 492 at fitness 0.0000\n",
            "Found optimum after 0 iterations at 730, 98, 492\n",
            "Initial input: 485 155 266 at fitness 0.0000\n",
            "Found optimum after 0 iterations at 485, 155, 266\n",
            "Initial input: 952 295 431 at fitness 0.0000\n",
            "Found optimum after 0 iterations at 952, 295, 431\n",
            "Initial input: 308 641 484 at fitness 0.0000\n",
            "Found optimum after 0 iterations at 308, 641, 484\n",
            "Initial input: 51 185 621 at fitness 0.6660\n"
          ]
        }
      ]
    }
  ]
}